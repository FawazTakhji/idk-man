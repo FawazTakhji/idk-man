{
  "nbformat": 4,
  "nbformat_minor": 0,
  "metadata": {
    "colab": {
      "name": "FawazIsGay.ipynb",
      "provenance": [],
      "collapsed_sections": [
        "nl6jV-XiXQXn",
        "dxAGF5QQyeO5",
        "fw0FQGJs8pyG",
        "XuP5bhaJ-HBv",
        "XXB7FZBH-jHX",
        "fyZg4y0Zrn8z"
      ],
      "authorship_tag": "ABX9TyMqY7cgLcQDUb5YnpRb9pIw",
      "include_colab_link": true
    },
    "kernelspec": {
      "name": "python3",
      "display_name": "Python 3"
    }
  },
  "cells": [
    {
      "cell_type": "markdown",
      "metadata": {
        "id": "view-in-github",
        "colab_type": "text"
      },
      "source": [
        "<a href=\"https://colab.research.google.com/github/FawazTakhji/idk-man/blob/master/FawazIsGay.ipynb\" target=\"_parent\"><img src=\"https://colab.research.google.com/assets/colab-badge.svg\" alt=\"Open In Colab\"/></a>"
      ]
    },
    {
      "cell_type": "markdown",
      "metadata": {
        "id": "nl6jV-XiXQXn",
        "colab_type": "text"
      },
      "source": [
        "# ![alt text](https://img.icons8.com/material-rounded/32/000000/box-settings-1.png) Requirements setup"
      ]
    },
    {
      "cell_type": "code",
      "metadata": {
        "id": "aGCUrMIvXpFw",
        "colab_type": "code",
        "cellView": "form",
        "colab": {}
      },
      "source": [
        "#@title ⬅️ Run this cell to start the requirements setup\n",
        "from google.colab import output\n",
        "%cd ../\n",
        "!npm install -g localtunnel\n",
        "output.clear()\n",
        "!apt-get install qbittorrent-nox\n",
        "output.clear()\n",
        "!curl https://rclone.org/install.sh | sudo bash\n",
        "output.clear()\n",
        "!echo Setup complete"
      ],
      "execution_count": null,
      "outputs": []
    },
    {
      "cell_type": "markdown",
      "metadata": {
        "id": "dxAGF5QQyeO5",
        "colab_type": "text"
      },
      "source": [
        "# ![alt text](https://i.imgur.com/AIDgT23.png) Rclone"
      ]
    },
    {
      "cell_type": "code",
      "metadata": {
        "id": "Laec9_1qyz89",
        "colab_type": "code",
        "cellView": "form",
        "colab": {}
      },
      "source": [
        "#@title ⬅️ Run this cell to create a config or edit it and if you already have a config skip to the next cell\n",
        "!rclone config\n",
        "!echo Success"
      ],
      "execution_count": null,
      "outputs": []
    },
    {
      "cell_type": "code",
      "metadata": {
        "id": "3VaxNyO84M7-",
        "colab_type": "code",
        "cellView": "form",
        "colab": {}
      },
      "source": [
        "#@title ⬅️ Copy rclone.conf to /content then run this cell to install your rclone config and if you dont have a config you can skip this cell\n",
        "%cd /root/.config/\n",
        "output.clear()\n",
        "%mkdir rclone\n",
        "output.clear()\n",
        "%cp /content/rclone.conf /root/.config/rclone\n",
        "output.clear()\n",
        "%cd ../\n",
        "output.clear()\n",
        "%cd ../\n",
        "output.clear()\n",
        "%cd ../\n",
        "output.clear()\n",
        "!echo Config installed successfully"
      ],
      "execution_count": null,
      "outputs": []
    },
    {
      "cell_type": "code",
      "metadata": {
        "id": "DjP6x5PI46Ge",
        "colab_type": "code",
        "cellView": "form",
        "colab": {}
      },
      "source": [
        "#@title ⬅️ Run this cell to download your rclone config for later use\n",
        "from google.colab import files\n",
        "files.download('/root/.config/rclone/rclone.conf')\n",
        "!echo File downloaded successfully\n"
      ],
      "execution_count": null,
      "outputs": []
    },
    {
      "cell_type": "markdown",
      "metadata": {
        "id": "fw0FQGJs8pyG",
        "colab_type": "text"
      },
      "source": [
        "## ![alt text](https://i.imgur.com/AIDgT23.png) Rclone mount"
      ]
    },
    {
      "cell_type": "code",
      "metadata": {
        "id": "N-oKOmhx8sYW",
        "colab_type": "code",
        "colab": {}
      },
      "source": [
        "%mkdir \"path/to/folder\"\n",
        "#example: %mkdir \"/content/Google_Mount_Folder\"\n",
        "!nohup rclone mount \"remote_name:/\" \"/path/to/folder\" --buffer-size 96M &\n",
        "#example: !rclone mount \"Drive:/\" \"/content/Goole_Mount/folder\""
      ],
      "execution_count": null,
      "outputs": []
    },
    {
      "cell_type": "code",
      "metadata": {
        "id": "bzgHTjFijOw2",
        "colab_type": "code",
        "colab": {}
      },
      "source": [
        "%mkdir \"path/to/folder\"\n",
        "#example: %mkdir \"/content/Google_Mount_Folder\"\n",
        "!nohup rclone mount \"remote_name:/\" \"/path/to/folder\" --buffer-size 96M &\n",
        "#example: !rclone mount \"Drive:/\" \"/content/Goole_Mount/folder\""
      ],
      "execution_count": null,
      "outputs": []
    },
    {
      "cell_type": "code",
      "metadata": {
        "id": "odLIAC5ejPav",
        "colab_type": "code",
        "colab": {}
      },
      "source": [
        "%mkdir \"path/to/folder\"\n",
        "#example: %mkdir \"/content/Google_Mount_Folder\"\n",
        "!nohup rclone mount \"remote_name:/\" \"/path/to/folder\" --buffer-size 96M &\n",
        "#example: !rclone mount \"Drive:/\" \"/content/Goole_Mount/folder\""
      ],
      "execution_count": null,
      "outputs": []
    },
    {
      "cell_type": "markdown",
      "metadata": {
        "id": "XuP5bhaJ-HBv",
        "colab_type": "text"
      },
      "source": [
        "## ![alt text](https://i.imgur.com/AIDgT23.png) Rclone check"
      ]
    },
    {
      "cell_type": "code",
      "metadata": {
        "id": "5y6p1wtX-Mem",
        "colab_type": "code",
        "colab": {}
      },
      "source": [
        "!rclone check \"remote_name:/\" \"remote_name:/\"\n",
        "#example !rclone check \"Drive:/\" \"Mega:/\""
      ],
      "execution_count": null,
      "outputs": []
    },
    {
      "cell_type": "markdown",
      "metadata": {
        "id": "XXB7FZBH-jHX",
        "colab_type": "text"
      },
      "source": [
        "## ![alt text](https://i.imgur.com/AIDgT23.png) Rclone copy"
      ]
    },
    {
      "cell_type": "code",
      "metadata": {
        "id": "NYYENs_--zUI",
        "colab_type": "code",
        "colab": {}
      },
      "source": [
        "!rclone copy \"remote_name:/path/to/folder/containing/files\" \"remote_name:/path/to/the/new/folder/that/will/contain/the/files\"\n",
        "#example !rclone copy \"Drive:/Anime Shows/Dr. Stone\" \"Mega:/FT/Anime/Dr. Stone\""
      ],
      "execution_count": null,
      "outputs": []
    },
    {
      "cell_type": "markdown",
      "metadata": {
        "id": "fyZg4y0Zrn8z",
        "colab_type": "text"
      },
      "source": [
        "# ![alt text](http://icons.iconarchive.com/icons/papirus-team/papirus-apps/32/qbittorrent-icon.png) qBittorrent"
      ]
    },
    {
      "cell_type": "code",
      "metadata": {
        "id": "lf-oE2qosD8J",
        "colab_type": "code",
        "cellView": "form",
        "colab": {}
      },
      "source": [
        "#@title ⬅️ Run this cell to start qBittorrent\n",
        "!qbittorrent-nox --webui-port=8050 --daemon\n",
        "output.clear()\n",
        "!nohup lt -h \"http://serverless.social\" -p 8050 &\n",
        "output.clear()\n",
        "!cat nohup.out\n",
        "!echo Username: admin Password: adminadmin"
      ],
      "execution_count": null,
      "outputs": []
    }
  ]
}